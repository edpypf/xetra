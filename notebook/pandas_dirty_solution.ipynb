{
 "cells": [
  {
   "cell_type": "code",
   "execution_count": 1,
   "id": "54735c7f",
   "metadata": {},
   "outputs": [],
   "source": [
    "import boto3\n",
    "import pandas as pd\n",
    "from io import StringIO, BytesIO\n",
    "from datetime import datetime, timedelta"
   ]
  },
  {
   "cell_type": "code",
   "execution_count": null,
   "id": "31380042",
   "metadata": {},
   "outputs": [],
   "source": [
    "# Adapter Layer\n",
    "def read_csv_to_df(bucket, key, decoding='utf-8', sep=','):\n",
    "    csv_obj = bucket.Object(key=key).get().get('Body').read().decode(decoding)\n",
    "    data = StringIO(csv_obj)\n",
    "    df=pd.read_csv(data, delimiter=sep)\n",
    "    return df \n",
    "\n",
    "def write_df_to_s3(bucket, df, key): \n",
    "    out_buffer = BytesIO()\n",
    "    df.to_parquet(out_buffer, index=False)\n",
    "    bucket_target = s3.Bucket('xetra-edp')\n",
    "    bucket.put_object(Body=out_buffer.getvalue(), Key=key)\n",
    "    return True\n",
    "\n",
    "def return_objects(bucket, arg_date):\n",
    "    min_date = datetime.strptime(arg_date, '%Y-%m-%d').date()-timedelta(days=1)\n",
    "    objects = [obj.key for obj in bucket.objects.all() if datetime.strptime(obj.key.split('/')[0], '%Y-%m-%d').date() >= min_date]\n",
    "    return objects"
   ]
  },
  {
   "cell_type": "code",
   "execution_count": 3,
   "id": "4464fbc5",
   "metadata": {},
   "outputs": [],
   "source": [
    "s3 = boto3.resource('s3')\n",
    "bucket = s3.Bucket('deutsche-boerse-xetra-pds')"
   ]
  },
  {
   "cell_type": "code",
   "execution_count": null,
   "id": "a59982ac",
   "metadata": {},
   "outputs": [],
   "source": [
    "# Application layer\n",
    "def extract(bucket, objects):\n",
    "    df_all=pd.concat([read_csv_to_df(bucket, obj) for obj in objects], ignore_index=True)\n",
    "    return df\n",
    "\n",
    "def transform_report1(df, columns, arg_date):\n",
    "    df=df.loc(:, columns)\n",
    "    df.dropna(inplace=True)\n",
    "    df['opening_price'] = df.sort_values(by=['Time']).groupby(['ISIN', 'Date'])['StartPrice'].transform('first')\n",
    "    df['closing_price'] = df.sort_values(by=['Time']).groupby(['ISIN', 'Date'])['StartPrice'].transform('last')\n",
    "    df = df.groupby(['ISIN', 'Date'], as_index=False).agg(opening_price_eur=('opening_price', 'min'), closing_price_eur=('closing_price', 'min'), minimum_price_eur=('MinPrice', 'min'), maximum_price_eur=('MaxPrice', 'max'), daily_traded_volume=('TradedVolume', 'sum'))\n",
    "    df = df.groupby(['ISIN', 'Date'], as_index=False).agg(opening_price_eur=('opening_price', 'min'), closing_price_eur=('closing_price', 'min'), minimum_price_eur=('MinPrice', 'min'), maximum_price_eur=('MaxPrice', 'max'), daily_traded_volume=('TradedVolume', 'sum'))\n",
    "    df['change_prev_closing_%']=(df['closing_price_eur']-df['prev_closing_price'])/df['prev_closing_price']*100\n",
    "    df.drop(columns=['prev_closing_price'], inplace=True)\n",
    "    df=df_all.round(decimals=2)\n",
    "    df=df_all[df.Date >= arg_date]\n",
    "    return df\n",
    "\n",
    "def load(bucket, df, trg_key, trg_format):\n",
    "    key = trg_key + datetime.today().strftime(\"%Y%m%d_%H%M%S\") + trg_format\n",
    "    write_df_to_s3(bucket, df, key)\n",
    "    return true\n",
    "\n",
    "def etl_report1():\n",
    "    df=extract(bucket, objects)\n",
    "    df=transform_report1(df, columns, arg_date)\n",
    "    load(bucket, df, trg_key, )"
   ]
  },
  {
   "cell_type": "code",
   "execution_count": 7,
   "id": "3179391b",
   "metadata": {},
   "outputs": [],
   "source": [
    "df=pd.DataFrame(columns=df_init.columns)\n",
    "for obj in objects:\n",
    "    csv_obj = bucket.Object(key=obj.key).get().get('Body').read().decode('utf-8')\n",
    "    data = StringIO(csv_obj)\n",
    "    df=pd.read_csv(data, delimiter=',')\n",
    "    df = df.append(df, ignore_index=True)\n",
    "    "
   ]
  },
  {
   "cell_type": "code",
   "execution_count": 9,
   "id": "07c9f680",
   "metadata": {},
   "outputs": [
    {
     "data": {
      "text/plain": [
       "Index(['ISIN', 'Mnemonic', 'SecurityDesc', 'SecurityType', 'Currency',\n",
       "       'SecurityID', 'Date', 'Time', 'StartPrice', 'MaxPrice', 'MinPrice',\n",
       "       'EndPrice', 'TradedVolume', 'NumberOfTrades'],\n",
       "      dtype='object')"
      ]
     },
     "execution_count": 9,
     "metadata": {},
     "output_type": "execute_result"
    }
   ],
   "source": [
    "df_init.columns"
   ]
  },
  {
   "cell_type": "code",
   "execution_count": 10,
   "id": "9627d0e5",
   "metadata": {},
   "outputs": [],
   "source": [
    "Columns = ['ISIN', 'Date', 'Time', 'StartPrice', 'MaxPrice', 'MinPrice',\n",
    "       'EndPrice', 'TradedVolume']"
   ]
  },
  {
   "cell_type": "markdown",
   "id": "f373a079",
   "metadata": {},
   "source": [
    "## Write to S3"
   ]
  },
  {
   "cell_type": "code",
   "execution_count": 22,
   "id": "ee91a040",
   "metadata": {},
   "outputs": [
    {
     "data": {
      "text/plain": [
       "s3.Object(bucket_name='xetra-edp', key='xetra_daily_report_20211230_083546.parquet')"
      ]
     },
     "execution_count": 22,
     "metadata": {},
     "output_type": "execute_result"
    }
   ],
   "source": [
    "\n",
    "out_buffer = BytesIO()\n",
    "df_all.to_parquet(out_buffer, index=False)\n",
    "bucket_target = s3.Bucket('xetra-edp')\n",
    "bucket_target.put_object(Body=out_buffer.getvalue(), Key=key)"
   ]
  },
  {
   "cell_type": "markdown",
   "id": "8c1f5f1d",
   "metadata": {},
   "source": [
    "## Reading the uploaded file"
   ]
  },
  {
   "cell_type": "code",
   "execution_count": 23,
   "id": "acde2140",
   "metadata": {},
   "outputs": [
    {
     "name": "stdout",
     "output_type": "stream",
     "text": [
      "xetra_daily_report_20211230_083546.parquet\n"
     ]
    }
   ],
   "source": [
    "for obj in bucket_target.objects.all():\n",
    "    print(obj.key)"
   ]
  },
  {
   "cell_type": "code",
   "execution_count": 25,
   "id": "8cfffe0d",
   "metadata": {},
   "outputs": [],
   "source": [
    "prq_obj = bucket_target.Object(key='xetra_daily_report_20211230_083546.parquet').get().get('Body').read()\n",
    "data = BytesIO(prq_obj)\n",
    "df_report=pd.read_parquet(data)"
   ]
  },
  {
   "cell_type": "code",
   "execution_count": 26,
   "id": "7edd78e6",
   "metadata": {},
   "outputs": [
    {
     "data": {
      "text/html": [
       "<div>\n",
       "<style scoped>\n",
       "    .dataframe tbody tr th:only-of-type {\n",
       "        vertical-align: middle;\n",
       "    }\n",
       "\n",
       "    .dataframe tbody tr th {\n",
       "        vertical-align: top;\n",
       "    }\n",
       "\n",
       "    .dataframe thead th {\n",
       "        text-align: right;\n",
       "    }\n",
       "</style>\n",
       "<table border=\"1\" class=\"dataframe\">\n",
       "  <thead>\n",
       "    <tr style=\"text-align: right;\">\n",
       "      <th></th>\n",
       "      <th>ISIN</th>\n",
       "      <th>Date</th>\n",
       "      <th>opening_price_eur</th>\n",
       "      <th>closing_price_eur</th>\n",
       "      <th>minimum_price_eur</th>\n",
       "      <th>maximum_price_eur</th>\n",
       "      <th>daily_traded_volume</th>\n",
       "      <th>change_prev_closing_%</th>\n",
       "    </tr>\n",
       "  </thead>\n",
       "  <tbody>\n",
       "    <tr>\n",
       "      <th>0</th>\n",
       "      <td>AT000000STR1</td>\n",
       "      <td>2021-12-29</td>\n",
       "      <td>36.20</td>\n",
       "      <td>36.60</td>\n",
       "      <td>36.20</td>\n",
       "      <td>36.70</td>\n",
       "      <td>592</td>\n",
       "      <td>0.00</td>\n",
       "    </tr>\n",
       "    <tr>\n",
       "      <th>1</th>\n",
       "      <td>AT000000STR1</td>\n",
       "      <td>2021-12-30</td>\n",
       "      <td>36.85</td>\n",
       "      <td>36.75</td>\n",
       "      <td>36.40</td>\n",
       "      <td>36.85</td>\n",
       "      <td>135</td>\n",
       "      <td>0.41</td>\n",
       "    </tr>\n",
       "    <tr>\n",
       "      <th>2</th>\n",
       "      <td>AT00000FACC2</td>\n",
       "      <td>2021-12-29</td>\n",
       "      <td>7.35</td>\n",
       "      <td>7.28</td>\n",
       "      <td>7.21</td>\n",
       "      <td>7.36</td>\n",
       "      <td>1479</td>\n",
       "      <td>-1.75</td>\n",
       "    </tr>\n",
       "    <tr>\n",
       "      <th>3</th>\n",
       "      <td>AT0000606306</td>\n",
       "      <td>2021-12-29</td>\n",
       "      <td>25.56</td>\n",
       "      <td>25.90</td>\n",
       "      <td>25.56</td>\n",
       "      <td>25.90</td>\n",
       "      <td>926</td>\n",
       "      <td>2.13</td>\n",
       "    </tr>\n",
       "    <tr>\n",
       "      <th>4</th>\n",
       "      <td>AT0000606306</td>\n",
       "      <td>2021-12-30</td>\n",
       "      <td>26.00</td>\n",
       "      <td>25.70</td>\n",
       "      <td>25.70</td>\n",
       "      <td>26.00</td>\n",
       "      <td>188</td>\n",
       "      <td>-0.77</td>\n",
       "    </tr>\n",
       "    <tr>\n",
       "      <th>...</th>\n",
       "      <td>...</td>\n",
       "      <td>...</td>\n",
       "      <td>...</td>\n",
       "      <td>...</td>\n",
       "      <td>...</td>\n",
       "      <td>...</td>\n",
       "      <td>...</td>\n",
       "      <td>...</td>\n",
       "    </tr>\n",
       "    <tr>\n",
       "      <th>6133</th>\n",
       "      <td>XS2314659447</td>\n",
       "      <td>2021-12-30</td>\n",
       "      <td>8.53</td>\n",
       "      <td>8.53</td>\n",
       "      <td>8.53</td>\n",
       "      <td>8.53</td>\n",
       "      <td>0</td>\n",
       "      <td>0.79</td>\n",
       "    </tr>\n",
       "    <tr>\n",
       "      <th>6134</th>\n",
       "      <td>XS2314660700</td>\n",
       "      <td>2021-12-29</td>\n",
       "      <td>17.81</td>\n",
       "      <td>17.77</td>\n",
       "      <td>17.73</td>\n",
       "      <td>17.81</td>\n",
       "      <td>69</td>\n",
       "      <td>-0.74</td>\n",
       "    </tr>\n",
       "    <tr>\n",
       "      <th>6135</th>\n",
       "      <td>XS2314660700</td>\n",
       "      <td>2021-12-30</td>\n",
       "      <td>18.04</td>\n",
       "      <td>17.99</td>\n",
       "      <td>17.99</td>\n",
       "      <td>18.04</td>\n",
       "      <td>0</td>\n",
       "      <td>1.27</td>\n",
       "    </tr>\n",
       "    <tr>\n",
       "      <th>6136</th>\n",
       "      <td>XS2376095068</td>\n",
       "      <td>2021-12-29</td>\n",
       "      <td>42.16</td>\n",
       "      <td>42.00</td>\n",
       "      <td>41.62</td>\n",
       "      <td>42.16</td>\n",
       "      <td>0</td>\n",
       "      <td>-1.74</td>\n",
       "    </tr>\n",
       "    <tr>\n",
       "      <th>6137</th>\n",
       "      <td>XS2376095068</td>\n",
       "      <td>2021-12-30</td>\n",
       "      <td>41.62</td>\n",
       "      <td>41.87</td>\n",
       "      <td>41.62</td>\n",
       "      <td>41.87</td>\n",
       "      <td>0</td>\n",
       "      <td>-0.31</td>\n",
       "    </tr>\n",
       "  </tbody>\n",
       "</table>\n",
       "<p>6138 rows × 8 columns</p>\n",
       "</div>"
      ],
      "text/plain": [
       "              ISIN        Date  opening_price_eur  closing_price_eur  \\\n",
       "0     AT000000STR1  2021-12-29              36.20              36.60   \n",
       "1     AT000000STR1  2021-12-30              36.85              36.75   \n",
       "2     AT00000FACC2  2021-12-29               7.35               7.28   \n",
       "3     AT0000606306  2021-12-29              25.56              25.90   \n",
       "4     AT0000606306  2021-12-30              26.00              25.70   \n",
       "...            ...         ...                ...                ...   \n",
       "6133  XS2314659447  2021-12-30               8.53               8.53   \n",
       "6134  XS2314660700  2021-12-29              17.81              17.77   \n",
       "6135  XS2314660700  2021-12-30              18.04              17.99   \n",
       "6136  XS2376095068  2021-12-29              42.16              42.00   \n",
       "6137  XS2376095068  2021-12-30              41.62              41.87   \n",
       "\n",
       "      minimum_price_eur  maximum_price_eur  daily_traded_volume  \\\n",
       "0                 36.20              36.70                  592   \n",
       "1                 36.40              36.85                  135   \n",
       "2                  7.21               7.36                 1479   \n",
       "3                 25.56              25.90                  926   \n",
       "4                 25.70              26.00                  188   \n",
       "...                 ...                ...                  ...   \n",
       "6133               8.53               8.53                    0   \n",
       "6134              17.73              17.81                   69   \n",
       "6135              17.99              18.04                    0   \n",
       "6136              41.62              42.16                    0   \n",
       "6137              41.62              41.87                    0   \n",
       "\n",
       "      change_prev_closing_%  \n",
       "0                      0.00  \n",
       "1                      0.41  \n",
       "2                     -1.75  \n",
       "3                      2.13  \n",
       "4                     -0.77  \n",
       "...                     ...  \n",
       "6133                   0.79  \n",
       "6134                  -0.74  \n",
       "6135                   1.27  \n",
       "6136                  -1.74  \n",
       "6137                  -0.31  \n",
       "\n",
       "[6138 rows x 8 columns]"
      ]
     },
     "execution_count": 26,
     "metadata": {},
     "output_type": "execute_result"
    }
   ],
   "source": [
    "df_report"
   ]
  },
  {
   "cell_type": "code",
   "execution_count": null,
   "id": "dffe7d87",
   "metadata": {},
   "outputs": [],
   "source": []
  }
 ],
 "metadata": {
  "kernelspec": {
   "display_name": "Python 3 (ipykernel)",
   "language": "python",
   "name": "python3"
  },
  "language_info": {
   "codemirror_mode": {
    "name": "ipython",
    "version": 3
   },
   "file_extension": ".py",
   "mimetype": "text/x-python",
   "name": "python",
   "nbconvert_exporter": "python",
   "pygments_lexer": "ipython3",
   "version": "3.10.1"
  }
 },
 "nbformat": 4,
 "nbformat_minor": 5
}
