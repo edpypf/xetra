{
 "cells": [
  {
   "cell_type": "code",
   "execution_count": 165,
   "id": "54735c7f",
   "metadata": {},
   "outputs": [],
   "source": [
    "import boto3\n",
    "import pandas as pd\n",
    "from io import StringIO, BytesIO\n",
    "from datetime import datetime, timedelta"
   ]
  },
  {
   "cell_type": "code",
   "execution_count": 166,
   "id": "776d3f34",
   "metadata": {},
   "outputs": [],
   "source": [
    "# Adapter Layer\n",
    "def read_csv_to_df(bucket, key, decoding='utf-8', sep=','):\n",
    "    print(\"key: \" + key)\n",
    "    csv_obj = bucket.Object(key=key).get().get('Body').read().decode(decoding)\n",
    "    data = StringIO(csv_obj)\n",
    "    df=pd.read_csv(data, delimiter=sep)\n",
    "    return df \n",
    "\n",
    "def write_df_to_s3(bucket, df, key): \n",
    "    out_buffer = BytesIO()\n",
    "    df.to_parquet(out_buffer, index=False)\n",
    "    bucket.put_object(Body=out_buffer.getvalue(), Key=key)\n",
    "    return True\n",
    "\n",
    "def list_files_in_prefix(bucket, prefix):\n",
    "    files = [obj.key for obj in bucket.objects.filter(Prefix=prefix)]\n",
    "    return files"
   ]
  },
  {
   "cell_type": "code",
   "execution_count": 167,
   "id": "80b21c21",
   "metadata": {},
   "outputs": [
    {
     "ename": "SyntaxError",
     "evalue": "invalid syntax (Temp/ipykernel_7160/903894642.py, line 4)",
     "output_type": "error",
     "traceback": [
      "\u001b[1;36m  File \u001b[1;32m\"C:\\Users\\edpyp\\AppData\\Local\\Temp/ipykernel_7160/903894642.py\"\u001b[1;36m, line \u001b[1;32m4\u001b[0m\n\u001b[1;33m    files = [key for date in date_list for obj.key for obj in bucket.objects.filter(Prefix=date)]\u001b[0m\n\u001b[1;37m                                                   ^\u001b[0m\n\u001b[1;31mSyntaxError\u001b[0m\u001b[1;31m:\u001b[0m invalid syntax\n"
     ]
    }
   ],
   "source": [
    "# Application layer\n",
    "def extract(bucket, date_list):\n",
    "    files = [key for date in date_list for key in list_files_in_prefix(bucket, date)]\n",
    "    df=pd.concat([read_csv_to_df(bucket, file) for file in files], ignore_index=True)\n",
    "    return df\n",
    "\n",
    "def transform_report1(df, columns, arg_date):\n",
    "    df=df.loc[:, columns]\n",
    "    df.dropna(inplace=True)\n",
    "    df['opening_price'] = df.sort_values(by=['Time']).groupby(['ISIN', 'Date'])['StartPrice'].transform('first')\n",
    "    df['closing_price'] = df.sort_values(by=['Time']).groupby(['ISIN', 'Date'])['StartPrice'].transform('last')\n",
    "    df = df.groupby(['ISIN', 'Date'], as_index=False).agg(opening_price_eur=('opening_price', 'min'), closing_price_eur=('closing_price', 'min'), minimum_price_eur=('MinPrice', 'min'), maximum_price_eur=('MaxPrice', 'max'), daily_traded_volume=('TradedVolume', 'sum'))\n",
    "    df['prev_closing_price'] = df.sort_values(by=['Date']).groupby(['ISIN'])['closing_price_eur'].shift(1)\n",
    "    df['change_prev_closing_%']=(df['closing_price_eur']-df['prev_closing_price'])/df['prev_closing_price']*100    \n",
    "    df.drop(columns=['prev_closing_price'], inplace=True)\n",
    "    df=df.round(decimals=2)\n",
    "    df=df[df.Date >= arg_date]\n",
    "    return df\n",
    "\n",
    "def load(bucket, df, trg_key, trg_format):\n",
    "    key = trg_key + datetime.today().strftime(\"%Y%m%d_%H%M%S\") + trg_format\n",
    "    write_df_to_s3(bucket, df, key)\n",
    "    return True\n",
    "\n",
    "def return_date_list(bucket, arg_date, src_format):\n",
    "    min_date = datetime.strptime(arg_date, src_format).date()-timedelta(days=1)\n",
    "    today=datetime.today().date()\n",
    "    return_date_list=[(min_date + timedelta(days=x)).strftime(src_format) for x in range(0, (today-min_date).days + 1)]\n",
    "    print(return_date_list)\n",
    "    return return_date_list\n",
    "\n",
    "def etl_report1(bucket_src, bucket_trg, date_list, columns, arg_date, trg_key, trg_format):\n",
    "    df=extract(bucket_src, date_list)\n",
    "    df=transform_report1(df, columns, arg_date)\n",
    "    load(bucket_trg, df, trg_key, trg_format)\n",
    "    return True"
   ]
  },
  {
   "cell_type": "code",
   "execution_count": null,
   "id": "3179391b",
   "metadata": {},
   "outputs": [],
   "source": [
    "# main function entrypoint\n",
    "def main():\n",
    "    # Parameters/Configurations\n",
    "    # Later read config\n",
    "    arg_date = '2021-12-26'\n",
    "    src_format = '%Y-%m-%d'\n",
    "    src_bucket_name = 'deutsche-boerse-xetra-pds'\n",
    "    trg_bucket_name = 'xetra-edp'\n",
    "    columns = ['ISIN', 'Date', 'Time', 'StartPrice', 'MaxPrice', 'MinPrice', 'EndPrice', 'TradedVolume']\n",
    "    trg_key = 'xetra_daily_report_'\n",
    "    trg_format = '.parquet'\n",
    "    \n",
    "    # Init\n",
    "    s3 = boto3.resource('s3')\n",
    "    bucket_src = s3.Bucket(src_bucket_name)\n",
    "    bucket_trg = s3.Bucket(trg_bucket_name)\n",
    "    \n",
    "    # run application\n",
    "    date_list = return_date_list(bucket_src, arg_date, src_format)\n",
    "    etl_report1(bucket_src, bucket_trg, date_list, columns, arg_date, trg_key, trg_format)"
   ]
  },
  {
   "cell_type": "code",
   "execution_count": null,
   "id": "2859c81d",
   "metadata": {},
   "outputs": [],
   "source": [
    "main()"
   ]
  },
  {
   "cell_type": "markdown",
   "id": "b4592e47",
   "metadata": {},
   "source": [
    "## Write to S3"
   ]
  },
  {
   "cell_type": "markdown",
   "id": "cfde5002",
   "metadata": {},
   "source": [
    "## Reading the uploaded file"
   ]
  },
  {
   "cell_type": "code",
   "execution_count": null,
   "id": "208a16eb",
   "metadata": {},
   "outputs": [],
   "source": [
    "for obj in bucket_target.objects.all():\n",
    "    print(obj.key)"
   ]
  },
  {
   "cell_type": "code",
   "execution_count": null,
   "id": "a71bdeb3",
   "metadata": {},
   "outputs": [],
   "source": [
    "prq_obj = bucket_target.Object(key='xetra_daily_report_20211230_083546.parquet').get().get('Body').read()\n",
    "data = BytesIO(prq_obj)\n",
    "df_report=pd.read_parquet(data)"
   ]
  },
  {
   "cell_type": "code",
   "execution_count": null,
   "id": "71642666",
   "metadata": {},
   "outputs": [],
   "source": [
    "df_report"
   ]
  },
  {
   "cell_type": "code",
   "execution_count": null,
   "id": "a0049313",
   "metadata": {},
   "outputs": [],
   "source": []
  }
 ],
 "metadata": {
  "kernelspec": {
   "display_name": "Python 3 (ipykernel)",
   "language": "python",
   "name": "python3"
  },
  "language_info": {
   "codemirror_mode": {
    "name": "ipython",
    "version": 3
   },
   "file_extension": ".py",
   "mimetype": "text/x-python",
   "name": "python",
   "nbconvert_exporter": "python",
   "pygments_lexer": "ipython3",
   "version": "3.10.1"
  }
 },
 "nbformat": 4,
 "nbformat_minor": 5
}
